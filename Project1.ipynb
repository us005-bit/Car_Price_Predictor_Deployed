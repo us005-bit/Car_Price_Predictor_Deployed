{
 "cells": [
  {
   "cell_type": "markdown",
   "id": "5fb06dde-9447-4635-afef-6366516e25e5",
   "metadata": {},
   "source": [
    "CAR PRICE PREDICTION MODEL"
   ]
  },
  {
   "cell_type": "code",
   "execution_count": 1,
   "id": "4a1de4c3-1481-4142-8e73-a8f7d3ec767f",
   "metadata": {},
   "outputs": [],
   "source": [
    "import numpy as np\n",
    "import pandas as pd\n",
    "import matplotlib.pyplot as plt\n",
    "import seaborn as sns"
   ]
  },
  {
   "cell_type": "code",
   "execution_count": 3,
   "id": "7d3cce32-16cc-4cea-88f2-7aa9217f337e",
   "metadata": {},
   "outputs": [],
   "source": [
    "from sklearn.model_selection import train_test_split\n",
    "from sklearn.linear_model import LinearRegression,Ridge,Lasso,ElasticNet\n",
    "from sklearn.preprocessing import OneHotEncoder\n",
    "from sklearn.metrics import r2_score,mean_squared_error,mean_absolute_error\n",
    "from sklearn.preprocessing import PolynomialFeatures,StandardScaler\n",
    "from sklearn.pipeline import Pipeline"
   ]
  },
  {
   "cell_type": "code",
   "execution_count": 5,
   "id": "eaaa254f-d223-4567-bb81-b017d42c08c0",
   "metadata": {},
   "outputs": [],
   "source": [
    "df=pd.read_csv(\"car data.csv\")\n",
    "df.columns = df.columns.str.strip()"
   ]
  },
  {
   "cell_type": "code",
   "execution_count": 7,
   "id": "beae2844-3e3a-48bd-be61-9580da2f316f",
   "metadata": {},
   "outputs": [
    {
     "data": {
      "text/html": [
       "<div>\n",
       "<style scoped>\n",
       "    .dataframe tbody tr th:only-of-type {\n",
       "        vertical-align: middle;\n",
       "    }\n",
       "\n",
       "    .dataframe tbody tr th {\n",
       "        vertical-align: top;\n",
       "    }\n",
       "\n",
       "    .dataframe thead th {\n",
       "        text-align: right;\n",
       "    }\n",
       "</style>\n",
       "<table border=\"1\" class=\"dataframe\">\n",
       "  <thead>\n",
       "    <tr style=\"text-align: right;\">\n",
       "      <th></th>\n",
       "      <th>Car_Name</th>\n",
       "      <th>Year</th>\n",
       "      <th>Selling_Price</th>\n",
       "      <th>Present_Price</th>\n",
       "      <th>Kms_Driven</th>\n",
       "      <th>Fuel_Type</th>\n",
       "      <th>Seller_Type</th>\n",
       "      <th>Transmission</th>\n",
       "      <th>Owner</th>\n",
       "    </tr>\n",
       "  </thead>\n",
       "  <tbody>\n",
       "    <tr>\n",
       "      <th>0</th>\n",
       "      <td>ritz</td>\n",
       "      <td>2014</td>\n",
       "      <td>3.35</td>\n",
       "      <td>5.59</td>\n",
       "      <td>27000</td>\n",
       "      <td>Petrol</td>\n",
       "      <td>Dealer</td>\n",
       "      <td>Manual</td>\n",
       "      <td>0</td>\n",
       "    </tr>\n",
       "    <tr>\n",
       "      <th>1</th>\n",
       "      <td>sx4</td>\n",
       "      <td>2013</td>\n",
       "      <td>4.75</td>\n",
       "      <td>9.54</td>\n",
       "      <td>43000</td>\n",
       "      <td>Diesel</td>\n",
       "      <td>Dealer</td>\n",
       "      <td>Manual</td>\n",
       "      <td>0</td>\n",
       "    </tr>\n",
       "    <tr>\n",
       "      <th>2</th>\n",
       "      <td>ciaz</td>\n",
       "      <td>2017</td>\n",
       "      <td>7.25</td>\n",
       "      <td>9.85</td>\n",
       "      <td>6900</td>\n",
       "      <td>Petrol</td>\n",
       "      <td>Dealer</td>\n",
       "      <td>Manual</td>\n",
       "      <td>0</td>\n",
       "    </tr>\n",
       "    <tr>\n",
       "      <th>3</th>\n",
       "      <td>wagon r</td>\n",
       "      <td>2011</td>\n",
       "      <td>2.85</td>\n",
       "      <td>4.15</td>\n",
       "      <td>5200</td>\n",
       "      <td>Petrol</td>\n",
       "      <td>Dealer</td>\n",
       "      <td>Manual</td>\n",
       "      <td>0</td>\n",
       "    </tr>\n",
       "    <tr>\n",
       "      <th>4</th>\n",
       "      <td>swift</td>\n",
       "      <td>2014</td>\n",
       "      <td>4.60</td>\n",
       "      <td>6.87</td>\n",
       "      <td>42450</td>\n",
       "      <td>Diesel</td>\n",
       "      <td>Dealer</td>\n",
       "      <td>Manual</td>\n",
       "      <td>0</td>\n",
       "    </tr>\n",
       "  </tbody>\n",
       "</table>\n",
       "</div>"
      ],
      "text/plain": [
       "  Car_Name  Year  Selling_Price  Present_Price  Kms_Driven Fuel_Type  \\\n",
       "0     ritz  2014           3.35           5.59       27000    Petrol   \n",
       "1      sx4  2013           4.75           9.54       43000    Diesel   \n",
       "2     ciaz  2017           7.25           9.85        6900    Petrol   \n",
       "3  wagon r  2011           2.85           4.15        5200    Petrol   \n",
       "4    swift  2014           4.60           6.87       42450    Diesel   \n",
       "\n",
       "  Seller_Type Transmission  Owner  \n",
       "0      Dealer       Manual      0  \n",
       "1      Dealer       Manual      0  \n",
       "2      Dealer       Manual      0  \n",
       "3      Dealer       Manual      0  \n",
       "4      Dealer       Manual      0  "
      ]
     },
     "execution_count": 7,
     "metadata": {},
     "output_type": "execute_result"
    }
   ],
   "source": [
    "df.head()"
   ]
  },
  {
   "cell_type": "code",
   "execution_count": 9,
   "id": "42aa49cc-1fa2-4cad-99ac-df2a3bec4b5e",
   "metadata": {},
   "outputs": [
    {
     "data": {
      "text/html": [
       "<div>\n",
       "<style scoped>\n",
       "    .dataframe tbody tr th:only-of-type {\n",
       "        vertical-align: middle;\n",
       "    }\n",
       "\n",
       "    .dataframe tbody tr th {\n",
       "        vertical-align: top;\n",
       "    }\n",
       "\n",
       "    .dataframe thead th {\n",
       "        text-align: right;\n",
       "    }\n",
       "</style>\n",
       "<table border=\"1\" class=\"dataframe\">\n",
       "  <thead>\n",
       "    <tr style=\"text-align: right;\">\n",
       "      <th></th>\n",
       "      <th>Year</th>\n",
       "      <th>Selling_Price</th>\n",
       "      <th>Present_Price</th>\n",
       "      <th>Kms_Driven</th>\n",
       "      <th>Owner</th>\n",
       "    </tr>\n",
       "  </thead>\n",
       "  <tbody>\n",
       "    <tr>\n",
       "      <th>count</th>\n",
       "      <td>301.000000</td>\n",
       "      <td>301.000000</td>\n",
       "      <td>301.000000</td>\n",
       "      <td>301.000000</td>\n",
       "      <td>301.000000</td>\n",
       "    </tr>\n",
       "    <tr>\n",
       "      <th>mean</th>\n",
       "      <td>2013.627907</td>\n",
       "      <td>4.661296</td>\n",
       "      <td>7.628472</td>\n",
       "      <td>36947.205980</td>\n",
       "      <td>0.043189</td>\n",
       "    </tr>\n",
       "    <tr>\n",
       "      <th>std</th>\n",
       "      <td>2.891554</td>\n",
       "      <td>5.082812</td>\n",
       "      <td>8.644115</td>\n",
       "      <td>38886.883882</td>\n",
       "      <td>0.247915</td>\n",
       "    </tr>\n",
       "    <tr>\n",
       "      <th>min</th>\n",
       "      <td>2003.000000</td>\n",
       "      <td>0.100000</td>\n",
       "      <td>0.320000</td>\n",
       "      <td>500.000000</td>\n",
       "      <td>0.000000</td>\n",
       "    </tr>\n",
       "    <tr>\n",
       "      <th>25%</th>\n",
       "      <td>2012.000000</td>\n",
       "      <td>0.900000</td>\n",
       "      <td>1.200000</td>\n",
       "      <td>15000.000000</td>\n",
       "      <td>0.000000</td>\n",
       "    </tr>\n",
       "    <tr>\n",
       "      <th>50%</th>\n",
       "      <td>2014.000000</td>\n",
       "      <td>3.600000</td>\n",
       "      <td>6.400000</td>\n",
       "      <td>32000.000000</td>\n",
       "      <td>0.000000</td>\n",
       "    </tr>\n",
       "    <tr>\n",
       "      <th>75%</th>\n",
       "      <td>2016.000000</td>\n",
       "      <td>6.000000</td>\n",
       "      <td>9.900000</td>\n",
       "      <td>48767.000000</td>\n",
       "      <td>0.000000</td>\n",
       "    </tr>\n",
       "    <tr>\n",
       "      <th>max</th>\n",
       "      <td>2018.000000</td>\n",
       "      <td>35.000000</td>\n",
       "      <td>92.600000</td>\n",
       "      <td>500000.000000</td>\n",
       "      <td>3.000000</td>\n",
       "    </tr>\n",
       "  </tbody>\n",
       "</table>\n",
       "</div>"
      ],
      "text/plain": [
       "              Year  Selling_Price  Present_Price     Kms_Driven       Owner\n",
       "count   301.000000     301.000000     301.000000     301.000000  301.000000\n",
       "mean   2013.627907       4.661296       7.628472   36947.205980    0.043189\n",
       "std       2.891554       5.082812       8.644115   38886.883882    0.247915\n",
       "min    2003.000000       0.100000       0.320000     500.000000    0.000000\n",
       "25%    2012.000000       0.900000       1.200000   15000.000000    0.000000\n",
       "50%    2014.000000       3.600000       6.400000   32000.000000    0.000000\n",
       "75%    2016.000000       6.000000       9.900000   48767.000000    0.000000\n",
       "max    2018.000000      35.000000      92.600000  500000.000000    3.000000"
      ]
     },
     "execution_count": 9,
     "metadata": {},
     "output_type": "execute_result"
    }
   ],
   "source": [
    "df.describe()"
   ]
  },
  {
   "cell_type": "code",
   "execution_count": 11,
   "id": "78bcc82b-0ad4-4a55-ae5f-52a5e2b79f9d",
   "metadata": {},
   "outputs": [
    {
     "name": "stdout",
     "output_type": "stream",
     "text": [
      "<class 'pandas.core.frame.DataFrame'>\n",
      "RangeIndex: 301 entries, 0 to 300\n",
      "Data columns (total 9 columns):\n",
      " #   Column         Non-Null Count  Dtype  \n",
      "---  ------         --------------  -----  \n",
      " 0   Car_Name       301 non-null    object \n",
      " 1   Year           301 non-null    int64  \n",
      " 2   Selling_Price  301 non-null    float64\n",
      " 3   Present_Price  301 non-null    float64\n",
      " 4   Kms_Driven     301 non-null    int64  \n",
      " 5   Fuel_Type      301 non-null    object \n",
      " 6   Seller_Type    301 non-null    object \n",
      " 7   Transmission   301 non-null    object \n",
      " 8   Owner          301 non-null    int64  \n",
      "dtypes: float64(2), int64(3), object(4)\n",
      "memory usage: 21.3+ KB\n"
     ]
    }
   ],
   "source": [
    "df.info()"
   ]
  },
  {
   "cell_type": "code",
   "execution_count": 13,
   "id": "0a3b10a8-96ba-480e-a4db-6b4b01bd1556",
   "metadata": {},
   "outputs": [],
   "source": [
    "#Feature Selection and Feature Engineering\n",
    "df['Current_Year']=2025\n",
    "df['Car_Age']=df['Current_Year']-df['Year']\n",
    "df=df.drop(['Year','Car_Name','Current_Year'],axis=1)"
   ]
  },
  {
   "cell_type": "code",
   "execution_count": 15,
   "id": "b26158fa-8423-4c25-8c69-4b2e994e477c",
   "metadata": {},
   "outputs": [
    {
     "data": {
      "text/html": [
       "<div>\n",
       "<style scoped>\n",
       "    .dataframe tbody tr th:only-of-type {\n",
       "        vertical-align: middle;\n",
       "    }\n",
       "\n",
       "    .dataframe tbody tr th {\n",
       "        vertical-align: top;\n",
       "    }\n",
       "\n",
       "    .dataframe thead th {\n",
       "        text-align: right;\n",
       "    }\n",
       "</style>\n",
       "<table border=\"1\" class=\"dataframe\">\n",
       "  <thead>\n",
       "    <tr style=\"text-align: right;\">\n",
       "      <th></th>\n",
       "      <th>Selling_Price</th>\n",
       "      <th>Present_Price</th>\n",
       "      <th>Kms_Driven</th>\n",
       "      <th>Fuel_Type</th>\n",
       "      <th>Seller_Type</th>\n",
       "      <th>Transmission</th>\n",
       "      <th>Owner</th>\n",
       "      <th>Car_Age</th>\n",
       "    </tr>\n",
       "  </thead>\n",
       "  <tbody>\n",
       "    <tr>\n",
       "      <th>0</th>\n",
       "      <td>3.35</td>\n",
       "      <td>5.59</td>\n",
       "      <td>27000</td>\n",
       "      <td>Petrol</td>\n",
       "      <td>Dealer</td>\n",
       "      <td>Manual</td>\n",
       "      <td>0</td>\n",
       "      <td>11</td>\n",
       "    </tr>\n",
       "    <tr>\n",
       "      <th>1</th>\n",
       "      <td>4.75</td>\n",
       "      <td>9.54</td>\n",
       "      <td>43000</td>\n",
       "      <td>Diesel</td>\n",
       "      <td>Dealer</td>\n",
       "      <td>Manual</td>\n",
       "      <td>0</td>\n",
       "      <td>12</td>\n",
       "    </tr>\n",
       "    <tr>\n",
       "      <th>2</th>\n",
       "      <td>7.25</td>\n",
       "      <td>9.85</td>\n",
       "      <td>6900</td>\n",
       "      <td>Petrol</td>\n",
       "      <td>Dealer</td>\n",
       "      <td>Manual</td>\n",
       "      <td>0</td>\n",
       "      <td>8</td>\n",
       "    </tr>\n",
       "    <tr>\n",
       "      <th>3</th>\n",
       "      <td>2.85</td>\n",
       "      <td>4.15</td>\n",
       "      <td>5200</td>\n",
       "      <td>Petrol</td>\n",
       "      <td>Dealer</td>\n",
       "      <td>Manual</td>\n",
       "      <td>0</td>\n",
       "      <td>14</td>\n",
       "    </tr>\n",
       "    <tr>\n",
       "      <th>4</th>\n",
       "      <td>4.60</td>\n",
       "      <td>6.87</td>\n",
       "      <td>42450</td>\n",
       "      <td>Diesel</td>\n",
       "      <td>Dealer</td>\n",
       "      <td>Manual</td>\n",
       "      <td>0</td>\n",
       "      <td>11</td>\n",
       "    </tr>\n",
       "  </tbody>\n",
       "</table>\n",
       "</div>"
      ],
      "text/plain": [
       "   Selling_Price  Present_Price  Kms_Driven Fuel_Type Seller_Type  \\\n",
       "0           3.35           5.59       27000    Petrol      Dealer   \n",
       "1           4.75           9.54       43000    Diesel      Dealer   \n",
       "2           7.25           9.85        6900    Petrol      Dealer   \n",
       "3           2.85           4.15        5200    Petrol      Dealer   \n",
       "4           4.60           6.87       42450    Diesel      Dealer   \n",
       "\n",
       "  Transmission  Owner  Car_Age  \n",
       "0       Manual      0       11  \n",
       "1       Manual      0       12  \n",
       "2       Manual      0        8  \n",
       "3       Manual      0       14  \n",
       "4       Manual      0       11  "
      ]
     },
     "execution_count": 15,
     "metadata": {},
     "output_type": "execute_result"
    }
   ],
   "source": [
    "df.head()"
   ]
  },
  {
   "cell_type": "code",
   "execution_count": 17,
   "id": "f049284e-7c10-402a-ba25-e1d606206756",
   "metadata": {},
   "outputs": [],
   "source": [
    "#Encoding\n",
    "df=pd.get_dummies(df,drop_first=True)"
   ]
  },
  {
   "cell_type": "code",
   "execution_count": 19,
   "id": "85493753-14dd-4327-afff-9db507570b61",
   "metadata": {},
   "outputs": [],
   "source": [
    "df=df.drop(['Transmission_Manual','Seller_Type_Individual'],axis=1)"
   ]
  },
  {
   "cell_type": "code",
   "execution_count": 59,
   "id": "b24756f5-d786-496c-abf9-3214cf71e807",
   "metadata": {},
   "outputs": [],
   "source": [
    "df.to_csv('Cleaned_data.csv', index=False)"
   ]
  },
  {
   "cell_type": "code",
   "execution_count": 21,
   "id": "2ae36e31-8ca8-4007-addb-2a6998a87685",
   "metadata": {},
   "outputs": [
    {
     "name": "stdout",
     "output_type": "stream",
     "text": [
      "Index(['Selling_Price', 'Present_Price', 'Kms_Driven', 'Owner', 'Car_Age',\n",
      "       'Fuel_Type_Diesel', 'Fuel_Type_Petrol'],\n",
      "      dtype='object')\n"
     ]
    }
   ],
   "source": [
    "print(df.columns)"
   ]
  },
  {
   "cell_type": "code",
   "execution_count": 23,
   "id": "0a273b0b-8055-4afa-8474-1287c3e9fdd9",
   "metadata": {},
   "outputs": [
    {
     "data": {
      "image/png": "[encoded data removed]",
      "text/plain": [
       "<Figure size 1000x600 with 2 Axes>"
      ]
     },
     "metadata": {},
     "output_type": "display_data"
    }
   ],
   "source": [
    "#EDA\n",
    "numeric_df = df.select_dtypes(include=['number'])\n",
    "\n",
    "plt.figure(figsize=(10, 6))\n",
    "sns.heatmap(numeric_df.corr(), annot=True, cmap=\"coolwarm\")\n",
    "plt.title(\"Correlation Matrix (Numeric Features Only)\")\n",
    "plt.show()"
   ]
  },
  {
   "cell_type": "code",
   "execution_count": 24,
   "id": "6a1fc647-31cb-41c0-9c3b-00c427462161",
   "metadata": {},
   "outputs": [
    {
     "data": {
      "image/png": "[encoded data removed]",
      "text/plain": [
       "<Figure size 640x480 with 1 Axes>"
      ]
     },
     "metadata": {},
     "output_type": "display_data"
    }
   ],
   "source": [
    "sns.scatterplot(data=df,x='Present_Price',y=\"Selling_Price\")\n",
    "plt.title(\"Selling Price vs Present Price\")\n",
    "plt.show()"
   ]
  },
  {
   "cell_type": "code",
   "execution_count": 26,
   "id": "50e8be68-83c1-4529-a54c-93ba85679282",
   "metadata": {},
   "outputs": [],
   "source": [
    "#Model Training\n",
    "x=df.drop('Selling_Price',axis=1)\n",
    "y=df['Selling_Price']\n",
    "x_train,x_test,y_train,y_test=train_test_split(x,y,test_size=0.2,random_state=2)\n",
    "\n",
    "##Linear Regression\n",
    "lr=LinearRegression()\n",
    "lr.fit(x_train,y_train)\n",
    "y_pred=lr.predict(x_test)\n",
    "\n",
    "\n",
    "##Polynomial Regression\n",
    "poly_pipeline=Pipeline([\n",
    "('poly', PolynomialFeatures(degree=2,include_bias=False)),\n",
    "('scaler',StandardScaler()),\n",
    "('plr',LinearRegression()) ])\n",
    "poly_pipeline.fit(x_train,y_train)\n",
    "y_pred_poly=poly_pipeline.predict(x_test)\n",
    "\n",
    "#Ridge Linear Regression\n",
    "ridge=Ridge(alpha=100)\n",
    "ridge.fit(x_train,y_train)\n",
    "y_pred_ridgeLR=ridge.predict(x_test)\n",
    "\n",
    "#Lasso Linear Regression\n",
    "lasso=Lasso(alpha=0.1)\n",
    "lasso.fit(x_train,y_train)\n",
    "y_pred_lassoLR=lasso.predict(x_test)\n",
    "\n",
    "#ElasticNet Linear Regression\n",
    "elastic=ElasticNet(alpha=0.1,l1_ratio=0.5)\n",
    "elastic.fit(x_train,y_train)\n",
    "y_pred_ENLR=elastic.predict(x_test)\n",
    "\n",
    "#RidgePR\n",
    "ridge_pipeline = Pipeline([\n",
    "    ('scaler', StandardScaler()),\n",
    "    ('ridge_reg', Ridge(alpha=10))\n",
    "])\n",
    "ridge_pipeline.fit(x_train, y_train)\n",
    "y_pred_ridgePR = ridge_pipeline.predict(x_test)\n",
    "\n",
    "#Lasso Polynomial Regression\n",
    "lasso_pipeline = Pipeline([\n",
    "    ('scaler', StandardScaler()),\n",
    "    ('lasso_reg', Lasso(alpha=0.1))\n",
    "])\n",
    "lasso_pipeline.fit(x_train, y_train)\n",
    "y_pred_lassoPR = lasso_pipeline.predict(x_test)\n",
    "\n",
    "\n",
    "#ElasticNet Polynomial Regression\n",
    "elastic_pipeline = Pipeline([\n",
    "    ('scaler', StandardScaler()),\n",
    "    ('elastic_reg', ElasticNet(alpha=0.1, l1_ratio=0.5))\n",
    "])\n",
    "elastic_pipeline.fit(x_train, y_train)\n",
    "y_pred_ENPR = elastic_pipeline.predict(x_test)\n"
   ]
  },
  {
   "cell_type": "code",
   "execution_count": 28,
   "id": "aedcb0da-e408-437b-bdf0-dcc48701826a",
   "metadata": {},
   "outputs": [
    {
     "data": {
      "text/plain": [
       "array([ 4.72475119e-01, -3.52064209e-06, -9.80782911e-01, -4.30899914e-01,\n",
       "        2.70395925e+00,  4.45611532e-01])"
      ]
     },
     "execution_count": 28,
     "metadata": {},
     "output_type": "execute_result"
    }
   ],
   "source": [
    "lr.coef_"
   ]
  },
  {
   "cell_type": "code",
   "execution_count": 31,
   "id": "10419663-d79f-4c2e-af33-3cd99302c497",
   "metadata": {},
   "outputs": [
    {
     "data": {
      "text/plain": [
       "5.2790835818532305"
      ]
     },
     "execution_count": 31,
     "metadata": {},
     "output_type": "execute_result"
    }
   ],
   "source": [
    "lr.intercept_"
   ]
  },
  {
   "cell_type": "code",
   "execution_count": 33,
   "id": "59aeba65-c0c1-49f9-aa22-8c29bf62f46d",
   "metadata": {},
   "outputs": [
    {
     "name": "stdout",
     "output_type": "stream",
     "text": [
      "Linear Regression\n",
      "MAE 1.3682093028316793\n",
      "MSE 3.0476133316906746\n",
      "RMSE 1.7457414847825192\n",
      "R2_Score 0.8340666122648224\n"
     ]
    }
   ],
   "source": [
    "print(\"Linear Regression\")\n",
    "print(\"MAE\",mean_absolute_error(y_test,y_pred))\n",
    "print(\"MSE\",mean_squared_error(y_test,y_pred))\n",
    "print(\"RMSE\",np.sqrt(mean_squared_error(y_test,y_pred)))\n",
    "print(\"R2_Score\",r2_score(y_test,y_pred))"
   ]
  },
  {
   "cell_type": "code",
   "execution_count": 35,
   "id": "00a4a5f7-eb7e-416d-82a7-e3fbad47f58f",
   "metadata": {},
   "outputs": [
    {
     "name": "stdout",
     "output_type": "stream",
     "text": [
      "Ridge Linear Regression\n",
      "R2_Score 0.8562248177855893\n"
     ]
    }
   ],
   "source": [
    "print(\"Ridge Linear Regression\")\n",
    "print(\"R2_Score\",r2_score(y_test,y_pred_ridgeLR))"
   ]
  },
  {
   "cell_type": "code",
   "execution_count": 37,
   "id": "ee8a80ee-ac16-4481-8010-bad76680bc37",
   "metadata": {},
   "outputs": [
    {
     "name": "stdout",
     "output_type": "stream",
     "text": [
      "Lasso Linear Regression\n",
      "R2_Score 0.8536571989394631\n"
     ]
    }
   ],
   "source": [
    "print(\"Lasso Linear Regression\")\n",
    "print(\"R2_Score\",r2_score(y_test,y_pred_lassoLR))"
   ]
  },
  {
   "cell_type": "code",
   "execution_count": 39,
   "id": "06938e57-ff5a-4549-bde8-60416355ca8a",
   "metadata": {},
   "outputs": [
    {
     "name": "stdout",
     "output_type": "stream",
     "text": [
      "ElasticNet Linear Regression\n",
      "R2_Score 0.8512430819779389\n"
     ]
    }
   ],
   "source": [
    "print(\"ElasticNet Linear Regression\")\n",
    "print(\"R2_Score\",r2_score(y_test,y_pred_ENLR))"
   ]
  },
  {
   "cell_type": "code",
   "execution_count": 41,
   "id": "74b29fed-c40d-437e-b34d-7ab9ba44227f",
   "metadata": {},
   "outputs": [
    {
     "name": "stdout",
     "output_type": "stream",
     "text": [
      "Polynomial Regression\n",
      "MAE 0.5803478326882815\n",
      "MSE 0.6289057918779908\n",
      "RMSE 0.7930358074374642\n",
      "R2_Score 0.9657579695142305\n"
     ]
    }
   ],
   "source": [
    "print(\"Polynomial Regression\")\n",
    "print(\"MAE\",mean_absolute_error(y_test,y_pred_poly))\n",
    "print(\"MSE\",mean_squared_error(y_test,y_pred_poly))\n",
    "print(\"RMSE\",np.sqrt(mean_squared_error(y_test,y_pred_poly)))\n",
    "print(\"R2_Score\",r2_score(y_test,y_pred_poly))"
   ]
  },
  {
   "cell_type": "code",
   "execution_count": 43,
   "id": "996f9036-dadc-44bd-b55c-2c8f31ba15c4",
   "metadata": {},
   "outputs": [
    {
     "name": "stdout",
     "output_type": "stream",
     "text": [
      "Ridge Polynomial Regression\n",
      "R2_Score 0.8233138604391946\n"
     ]
    }
   ],
   "source": [
    "print(\"Ridge Polynomial Regression\")\n",
    "print(\"R2_Score\",r2_score(y_test,y_pred_ridgePR))"
   ]
  },
  {
   "cell_type": "code",
   "execution_count": 45,
   "id": "8cc5a198-2916-4b62-9fcf-7672a659be99",
   "metadata": {},
   "outputs": [
    {
     "name": "stdout",
     "output_type": "stream",
     "text": [
      "Lasso Polynomial Regression\n",
      "R2_Score 0.8357827273766227\n"
     ]
    }
   ],
   "source": [
    "print(\"Lasso Polynomial Regression\")\n",
    "print(\"R2_Score\",r2_score(y_test,y_pred_lassoPR))"
   ]
  },
  {
   "cell_type": "code",
   "execution_count": 47,
   "id": "d2b25cc9-debe-4866-bcf7-b27e96102dbf",
   "metadata": {},
   "outputs": [
    {
     "name": "stdout",
     "output_type": "stream",
     "text": [
      "ElasticNet Polynomial Regression\n",
      "R2_Score 0.8215900430272556\n"
     ]
    }
   ],
   "source": [
    "print(\"ElasticNet Polynomial Regression\")\n",
    "print(\"R2_Score\",r2_score(y_test,y_pred_ENPR))"
   ]
  },
  {
   "cell_type": "code",
   "execution_count": 49,
   "id": "ba022a13-0e88-4990-8217-fe0a98d12217",
   "metadata": {},
   "outputs": [],
   "source": [
    "import pickle\n",
    "with open('PolynomialModel.pkl', 'wb') as file:\n",
    "    pickle.dump(poly_pipeline, file)"
   ]
  },
  {
   "cell_type": "code",
   "execution_count": 61,
   "id": "83d0ecb9-823f-4380-a4de-c5f7c1935259",
   "metadata": {},
   "outputs": [],
   "source": [
    "import pickle\n",
    "with open('LinearModel.pkl','wb') as file:\n",
    "    pickle.dump(lr,file)"
   ]
  },
  {
   "cell_type": "code",
   "execution_count": null,
   "id": "8130a1c5-08f9-4c5a-8405-4c5634c03fda",
   "metadata": {},
   "outputs": [],
   "source": []
  }
 ],
 "metadata": {
  "kernelspec": {
   "display_name": "Python [conda env:base] *",
   "language": "python",
   "name": "conda-base-py"
  },
  "language_info": {
   "codemirror_mode": {
    "name": "ipython",
    "version": 3
   },
   "file_extension": ".py",
   "mimetype": "text/x-python",
   "name": "python",
   "nbconvert_exporter": "python",
   "pygments_lexer": "ipython3",
   "version": "3.12.7"
  }
 },
 "nbformat": 4,
 "nbformat_minor": 5
}
